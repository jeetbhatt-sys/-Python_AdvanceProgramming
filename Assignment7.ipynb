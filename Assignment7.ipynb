{
 "cells": [
  {
   "cell_type": "raw",
   "metadata": {},
   "source": [
    "1. Write a function that counts how many concentric layers a rug.\n",
    "\n",
    "Examples\n",
    "\n",
    "count_layers([\n",
    "  \"AAAA\",\n",
    "  \"ABBA\",\n",
    "  \"AAAA\"\n",
    "]) ➞ 2\n",
    "\n",
    "count_layers([\n",
    "  \"AAAAAAAAA\",\n",
    "  \"ABBBBBBBA\",\n",
    "  \"ABBAAABBA\",\n",
    "  \"ABBBBBBBA\",\n",
    "  \"AAAAAAAAA\"\n",
    "]) ➞ 3\n",
    "\n",
    "count_layers([\n",
    "  \"AAAAAAAAAAA\",\n",
    "  \"AABBBBBBBAA\",\n",
    "  \"AABCCCCCBAA\",\n",
    "  \"AABCAAACBAA\",\n",
    "  \"AABCADACBAA\",\n",
    "  \"AABCAAACBAA\",\n",
    "  \"AABCCCCCBAA\",\n",
    "  \"AABBBBBBBAA\",\n",
    "  \"AAAAAAAAAAA\"\n",
    "]) ➞ 5\n"
   ]
  },
  {
   "cell_type": "code",
   "execution_count": 41,
   "metadata": {},
   "outputs": [
    {
     "name": "stdout",
     "output_type": "stream",
     "text": [
      "Count of layers :  5\n"
     ]
    }
   ],
   "source": [
    "def count_layers(lst):\n",
    "    count = 1\n",
    "    old = lst[0][0]\n",
    "    new = ''\n",
    "    l = int(len(lst)/2) \n",
    "    s = lst[l]\n",
    "    for i in range(int(len(s)/2) + 1):\n",
    "        new = s[i]\n",
    "        if old !=new:\n",
    "            count +=1\n",
    "            old = new\n",
    "    return count\n",
    "\n",
    "lst = [\n",
    "  \"AAAAAAAAAAA\",\n",
    "  \"AABBBBBBBAA\",\n",
    "  \"AABCCCCCBAA\",\n",
    "  \"AABCAAACBAA\",\n",
    "  \"AABCADACBAA\",\n",
    "  \"AABCAAACBAA\",\n",
    "  \"AABCCCCCBAA\",\n",
    "  \"AABBBBBBBAA\",\n",
    "  \"AAAAAAAAAAA\"\n",
    "]\n",
    "\n",
    "print(\"Count of layers : \", count_layers(lst))"
   ]
  },
  {
   "cell_type": "raw",
   "metadata": {},
   "source": [
    "2. There are many different styles of music and many albums exhibit multiple styles. Create a function that takes a list of musical styles from albums and returns how many styles are unique.\n",
    "\n",
    "Examples\n",
    "\n",
    "unique_styles([\n",
    "  \"Dub,Dancehall\",\n",
    "  \"Industrial,Heavy Metal\",\n",
    "  \"Techno,Dubstep\",\n",
    "  \"Synth-pop,Euro-Disco\",\n",
    "  \"Industrial,Techno,Minimal\"\n",
    "]) ➞ 9\n",
    "\n",
    "unique_styles([\n",
    "  \"Soul\",\n",
    "  \"House,Folk\",\n",
    "  \"Trance,Downtempo,Big Beat,House\",\n",
    "  \"Deep House\",\n",
    "  \"Soul\"\n",
    "]) ➞ 7\n"
   ]
  },
  {
   "cell_type": "code",
   "execution_count": 49,
   "metadata": {},
   "outputs": [
    {
     "name": "stdout",
     "output_type": "stream",
     "text": [
      "No. of Unique Styles :  9\n"
     ]
    }
   ],
   "source": [
    "def unique_styles(lst):\n",
    "    nLst = []\n",
    "    for e in lst:\n",
    "        for s in e.split(','):\n",
    "            if s not in nLst:\n",
    "                nLst.append(s)\n",
    "    return len(nLst)\n",
    "\n",
    "lst = [\n",
    "  \"Dub,Dancehall\",\n",
    "  \"Industrial,Heavy Metal\",\n",
    "  \"Techno,Dubstep\",\n",
    "  \"Synth-pop,Euro-Disco\",\n",
    "  \"Industrial,Techno,Minimal\"\n",
    "]\n",
    "\n",
    "print(\"No. of Unique Styles : \", unique_styles(lst))"
   ]
  },
  {
   "cell_type": "raw",
   "metadata": {},
   "source": [
    "3. Create a function that finds a target number in a list of prime numbers. Implement a binary search algorithm in your function. The target number will be from 2 through 97. If the target is prime then return \"yes\" else return \"no\".\n",
    "\n",
    "Examples\n",
    "\n",
    "primes = [2, 3, 5, 7, 11, 13, 17, 19, 23, 29, 31, 37, 41, 43, 47, 53, 59, 61, 67, 71, 73, 79, 83, 89, 97]\n",
    "\n",
    "\n",
    "is_prime(primes, 3) ➞ \"yes\"\n",
    "\n",
    "is_prime(primes, 4) ➞ \"no\"\n",
    "\n",
    "is_prime(primes, 67) ➞ \"yes\"\n",
    "\n",
    "is_prime(primes, 36) ➞ \"no\"\n"
   ]
  },
  {
   "cell_type": "code",
   "execution_count": 61,
   "metadata": {},
   "outputs": [
    {
     "name": "stdout",
     "output_type": "stream",
     "text": [
      "Please enter a number you want to search for : 37\n",
      "Is number present :  True\n"
     ]
    }
   ],
   "source": [
    "def binarySearch(lst,low,high,ele):\n",
    "    if high >= low:\n",
    "        mid = (low + high) //2\n",
    "        if int(lst[mid]) == ele:\n",
    "            return mid\n",
    "        elif int(lst[mid]) > ele:\n",
    "            return binarySearch(lst, low, mid - 1, ele)\n",
    "        else:\n",
    "            return binarySearch(lst, mid + 1, high, ele)\n",
    "    else:\n",
    "        return -1\n",
    "\n",
    "def is_prime(lst,n):\n",
    "    low = 0\n",
    "    high = len(lst)\n",
    "    mid = int((high + low)/2)\n",
    "    t = binarySearch(lst,low,high,n)\n",
    "    if t == -1:\n",
    "        return False\n",
    "    else:\n",
    "        return True\n",
    "primes = [2, 3, 5, 7, 11, 13, 17, 19, 23, 29, 31, 37, 41, 43, 47, 53, 59, 61, 67, 71, 73, 79, 83, 89, 97]\n",
    "\n",
    "n = int(input(\"Please enter a number you want to search for : \"))\n",
    "\n",
    "print(\"Is number present : \", is_prime(primes, n))"
   ]
  },
  {
   "cell_type": "raw",
   "metadata": {},
   "source": [
    "4. Create a function that takes in n, a, b and returns the number of positive values raised to the nth power that lie in the range [a, b], inclusive.\n",
    "\n",
    "Examples\n",
    "\n",
    "power_ranger(2, 49, 65) ➞ 2\n",
    "# 2 squares (n^2) lie between 49 and 65, 49 (7^2) and 64 (8^2)\n",
    "\n",
    "power_ranger(3, 1, 27) ➞ 3\n",
    "# 3 cubes (n^3) lie between 1 and 27, 1 (1^3), 8 (2^3) and 27 (3^3)\n",
    "\n",
    "power_ranger(10, 1, 5) ➞ 1\n",
    "# 1 value raised to the 10th power lies between 1 and 5, 1 (1^10)\n",
    "\n",
    "power_ranger(5, 31, 33) ➞ 1\n",
    "\n",
    "power_ranger(4, 250, 1300) ➞ 3\n"
   ]
  },
  {
   "cell_type": "code",
   "execution_count": 77,
   "metadata": {},
   "outputs": [
    {
     "name": "stdout",
     "output_type": "stream",
     "text": [
      "Please enter the value of n,a,b comma seperated : 3,1,27\n",
      "number of positive values raised to the 3th power that lie in the range [1, 27] : 3\n"
     ]
    }
   ],
   "source": [
    "def power_ranger(n,a,b):\n",
    "    lst = []\n",
    "    for i in range(b):\n",
    "        if i ** n in range(a,b+1):\n",
    "            lst.append(i ** n)\n",
    "    return len(lst)\n",
    "\n",
    "n, a, b = input(\"Please enter the value of n,a,b comma seperated : \").split(',')\n",
    "print(\"number of positive values raised to the {}th power that lie in the range [{}, {}] : {}\".format(n,a,b,power_ranger(int(n),int(a),int(b))))"
   ]
  },
  {
   "cell_type": "raw",
   "metadata": {},
   "source": [
    "5. Given a number, return the difference between the maximum and minimum numbers that can be formed when the digits are rearranged.\n",
    "\n",
    "Examples\n",
    "\n",
    "rearranged_difference(972882) ➞ 760833\n",
    "# 988722 - 227889 = 760833\n",
    "\n",
    "rearranged_difference(3320707) ➞ 7709823\n",
    "# 7733200 - 23377 = 7709823\n",
    "\n",
    "rearranged_difference(90010) ➞ 90981\n",
    "# 91000 - 19 = 90981\n"
   ]
  },
  {
   "cell_type": "code",
   "execution_count": 97,
   "metadata": {},
   "outputs": [
    {
     "name": "stdout",
     "output_type": "stream",
     "text": [
      "Please Enter a number : 90981\n",
      "Diffrent Between the mximum and minimum after reshuffling the digits of the number :  97911\n"
     ]
    }
   ],
   "source": [
    "def rearranged_difference(num):\n",
    "    lst = list(str(num))\n",
    "    lst.sort()\n",
    "    maximum = ''\n",
    "    minimum = ''\n",
    "    for i in range(0,len(lst)):\n",
    "        minimum += lst[i]\n",
    "        maximum +=lst[-i-1]\n",
    "    return int(maximum) - int(minimum)\n",
    "num = int(input(\"Please Enter a number : \"))\n",
    "print(\"Diffrent Between the mximum and minimum after reshuffling the digits of the number : \", rearranged_difference(num))"
   ]
  },
  {
   "cell_type": "code",
   "execution_count": null,
   "metadata": {},
   "outputs": [],
   "source": []
  },
  {
   "cell_type": "code",
   "execution_count": null,
   "metadata": {},
   "outputs": [],
   "source": []
  }
 ],
 "metadata": {
  "kernelspec": {
   "display_name": "Python 3",
   "language": "python",
   "name": "python3"
  },
  "language_info": {
   "codemirror_mode": {
    "name": "ipython",
    "version": 3
   },
   "file_extension": ".py",
   "mimetype": "text/x-python",
   "name": "python",
   "nbconvert_exporter": "python",
   "pygments_lexer": "ipython3",
   "version": "3.8.3"
  }
 },
 "nbformat": 4,
 "nbformat_minor": 4
}
