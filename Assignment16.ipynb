{
 "cells": [
  {
   "cell_type": "raw",
   "metadata": {},
   "source": [
    "1. Rondo Form is a type of musical structure, in which there is a recurring theme/refrain, notated as A. Here are the rules for valid rondo forms:\n",
    "\n",
    "   - Rondo forms always start and end with an A section.\n",
    "   - In between the A sections, there should be contrasting sections notated as B, then C, then D, etc... No letter should be skipped.\n",
    "   - There shouldn't be any repeats in the sequence (such as ABBACCA).\n",
    "\n",
    "Create a function which validates whether a given string is a valid Rondo Form.\n",
    "\n",
    "Examples\n",
    "\n",
    "valid_rondo(\"ABACADAEAFAGAHAIAJA\") ➞ True\n",
    "\n",
    "valid_rondo(\"ABA\") ➞ True\n",
    "\n",
    "valid_rondo(\"ABBACCA\") ➞ False\n",
    "\n",
    "valid_rondo(\"ACAC\") ➞ False\n",
    "\n",
    "valid_rondo(\"A\") ➞ False"
   ]
  },
  {
   "cell_type": "code",
   "execution_count": 9,
   "metadata": {},
   "outputs": [
    {
     "name": "stdout",
     "output_type": "stream",
     "text": [
      "Please Enter a string : ABACADAEAFAGAHAIAJA\n",
      "Is entered string is a valid Rondo :  True\n"
     ]
    }
   ],
   "source": [
    "def valid_rondo(str1):\n",
    "    if len(str1) < 3 or str1[0] != 'A' or str1[len(str1)-1] != 'A':\n",
    "        return False\n",
    "    else:\n",
    "        old = ord('A')\n",
    "        for i in range(1,len(str1)-2):\n",
    "            if i % 2 == 0:\n",
    "                if str1[i] != 'A':\n",
    "                    return False\n",
    "            else:\n",
    "                if ord(str1[i]) == old + 1:\n",
    "                    old = ord(str1[i])\n",
    "                else:\n",
    "                    return False\n",
    "    return True\n",
    "            \n",
    "str1 = input(\"Please Enter a string : \")\n",
    "print(\"Is entered string is a valid Rondo : \", valid_rondo(str1))"
   ]
  },
  {
   "cell_type": "raw",
   "metadata": {},
   "source": [
    "2. Create a function that returns the whole of the first sentence which contains a specific word. Include the full stop at the end of the sentence.\n",
    "\n",
    "Examples\n",
    "\n",
    "txt = \"I have a cat. I have a mat. Things are going swell.\"\n",
    "\n",
    "sentence_searcher(txt, \"have\") ➞ \"I have a cat.\"\n",
    "\n",
    "sentence_searcher(txt, \"MAT\") ➞ \"I have a mat.\"\n",
    "\n",
    "sentence_searcher(txt, \"things\") ➞ \"Things are going swell.\"\n",
    "\n",
    "sentence_searcher(txt, \"flat\") ➞ \"\""
   ]
  },
  {
   "cell_type": "code",
   "execution_count": 20,
   "metadata": {},
   "outputs": [
    {
     "data": {
      "text/plain": [
       "'I have a mat.'"
      ]
     },
     "execution_count": 20,
     "metadata": {},
     "output_type": "execute_result"
    }
   ],
   "source": [
    "def sentence_searcher(txt, str1):\n",
    "    lst = txt.split('. ')\n",
    "    for sen in lst:\n",
    "        if str1.upper() in sen.upper():\n",
    "            return sen + '.'\n",
    "    return \"\"\n",
    "txt = \"I have a cat. I have a mat. Things are going swell.\"\n",
    "sentence_searcher(txt, \"MAT\")"
   ]
  },
  {
   "cell_type": "raw",
   "metadata": {},
   "source": [
    "3. Given a number, find the \"round \"of each digit of the number. An integer is called \"round\" if all its digits except the leftmost (most significant) are equal to zero.\n",
    "\n",
    "    - Round numbers: 4000, 1, 9, 800, 90\n",
    "    - Not round numbers: 110, 707, 222, 1001\n",
    "\n",
    "Create a function that takes a number and returns the \"round\" of each digit (except if the digit is zero) as a string. Check out the following examples for more clarification.\n",
    "\n",
    "Examples\n",
    "\n",
    "sum_round(101) ➞ \"1 100\"\n",
    "\n",
    "sum_round(1234) ➞ \"4 30 200 1000\"\n",
    "\n",
    "sum_round(54210) ➞ \"10 200 4000 50000\""
   ]
  },
  {
   "cell_type": "code",
   "execution_count": 46,
   "metadata": {},
   "outputs": [
    {
     "name": "stdout",
     "output_type": "stream",
     "text": [
      "Please Enter a number : 54210\n",
      "Sum round :  10 200 4000 50000 \n"
     ]
    }
   ],
   "source": [
    "def sum_round(num):\n",
    "    str1 = str(num)\n",
    "    res = ''\n",
    "    j = 0\n",
    "    for i in range(len(str1)-1,-1,-1):\n",
    "        digit = int(str1[i])\n",
    "        if digit != 0:\n",
    "            res += str(digit*(10**j)) + ' '\n",
    "        j+=1\n",
    "    return res\n",
    "\n",
    "num = int(input(\"Please Enter a number : \"))\n",
    "print(\"Sum round : \", sum_round(num))"
   ]
  },
  {
   "cell_type": "raw",
   "metadata": {},
   "source": [
    "4. Your task, is to create N x N multiplication table, of size n provided in parameter.\n",
    "\n",
    "For example, when n is 5, the multiplication table is:\n",
    "\n",
    "   - 1, 2, 3, 4, 5\n",
    "   - 2, 4, 6, 8, 10\n",
    "   - 3, 6, 9, 12, 15\n",
    "   - 4, 8, 12, 16, 20\n",
    "   - 5, 10, 15, 20, 25\n",
    "\n",
    "This example will result in:\n",
    "\n",
    "[[1, 2, 3, 4, 5], [2, 4, 6, 8, 10], [3, 6, 9, 12, 15], [4, 8, 12, 16, 20], [5, 10, 15, 20, 25]]\n",
    "\n",
    "Examples\n",
    "\n",
    "multiplication_table(1) ➞ [[1]]\n",
    "\n",
    "multiplication_table(3) ➞ [[1, 2, 3], [2, 4, 6], [3, 6, 9]]\n"
   ]
  },
  {
   "cell_type": "code",
   "execution_count": 52,
   "metadata": {},
   "outputs": [
    {
     "name": "stdout",
     "output_type": "stream",
     "text": [
      "Please enter a number : 5\n",
      "multiplication_table :  [[1, 2, 3, 4, 5], [2, 4, 6, 8, 10], [3, 6, 9, 12, 15], [4, 8, 12, 16, 20], [5, 10, 15, 20, 25]]\n"
     ]
    }
   ],
   "source": [
    "def multiplication_table(num):\n",
    "    return [[i*j for i in range(1,num+1)] for j in range(1,num+1)]\n",
    "\n",
    "num = int(input(\"Please enter a number : \"))\n",
    "print(\"multiplication_table : \", multiplication_table(num))"
   ]
  },
  {
   "cell_type": "raw",
   "metadata": {},
   "source": [
    "5. Create a function that returns True if two lines rhyme and False otherwise. For the purposes of this exercise, two lines rhyme if the last word from each sentence contains the same vowels.\n",
    "\n",
    "Examples\n",
    "\n",
    "does_rhyme(\"Sam I am!\", \"Green eggs and ham.\") ➞ True\n",
    "\n",
    "does_rhyme(\"Sam I am!\", \"Green eggs and HAM.\") ➞ True\n",
    "# Capitalization and punctuation should not matter.\n",
    "\n",
    "does_rhyme(\"You are off to the races\", \"a splendid day.\") ➞ False\n",
    "\n",
    "does_rhyme(\"and frequently do?\", \"you gotta move.\") ➞ False\n"
   ]
  },
  {
   "cell_type": "code",
   "execution_count": 70,
   "metadata": {},
   "outputs": [
    {
     "data": {
      "text/plain": [
       "True"
      ]
     },
     "execution_count": 70,
     "metadata": {},
     "output_type": "execute_result"
    }
   ],
   "source": [
    "def does_rhyme(str1,str2):\n",
    "    for i in range(len(str1)-1,-1,-1):\n",
    "        if str1[i].isalpha():\n",
    "            for j in range(len(str2)-1,-1,-1):\n",
    "                if str2[j].isalpha():\n",
    "                    if str1[i].lower() == str2[j].lower():\n",
    "                        return True\n",
    "                    else:\n",
    "                        return False\n",
    "    return False\n",
    "            \n",
    "            \n",
    "does_rhyme(\"Sam I am!\", \"Green eggs and HAM.\")"
   ]
  },
  {
   "cell_type": "code",
   "execution_count": null,
   "metadata": {},
   "outputs": [],
   "source": []
  },
  {
   "cell_type": "code",
   "execution_count": null,
   "metadata": {},
   "outputs": [],
   "source": []
  }
 ],
 "metadata": {
  "kernelspec": {
   "display_name": "Python 3",
   "language": "python",
   "name": "python3"
  },
  "language_info": {
   "codemirror_mode": {
    "name": "ipython",
    "version": 3
   },
   "file_extension": ".py",
   "mimetype": "text/x-python",
   "name": "python",
   "nbconvert_exporter": "python",
   "pygments_lexer": "ipython3",
   "version": "3.8.3"
  }
 },
 "nbformat": 4,
 "nbformat_minor": 4
}
