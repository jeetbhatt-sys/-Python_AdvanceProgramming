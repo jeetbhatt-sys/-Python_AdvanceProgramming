{
 "cells": [
  {
   "cell_type": "raw",
   "metadata": {},
   "source": [
    "1. Create a function based on the input and output. Look at the examples, there is a pattern.\n",
    "\n",
    "Examples\n",
    "\n",
    "secret(\"p.one.two.three\") ➞ \"<p class='one two three'></p>\"\n",
    "\n",
    "secret(\"p.one\") ➞ \"<p class='one'></p>\"\n",
    "\n",
    "secret(\"p.four.five\") ➞ \"<p class='four five'></p>\""
   ]
  },
  {
   "cell_type": "code",
   "execution_count": 5,
   "metadata": {},
   "outputs": [
    {
     "data": {
      "text/plain": [
       "\"<p class='four five'></p>\""
      ]
     },
     "execution_count": 5,
     "metadata": {},
     "output_type": "execute_result"
    }
   ],
   "source": [
    "def secret(str1):\n",
    "    keys = str1.replace('p.',\"<p class='\").replace('.',' ')\n",
    "    return keys + \"'></p>\"\n",
    "secret(\"p.four.five\")"
   ]
  },
  {
   "cell_type": "raw",
   "metadata": {},
   "source": [
    "2. Create a function which counts how many lone 1s appear in a given number. Lone means the number doesn't appear twice or more in a row.\n",
    "\n",
    "Examples\n",
    "\n",
    "count_lone_ones(101) ➞ 2\n",
    "\n",
    "count_lone_ones(1191) ➞ 1\n",
    "\n",
    "count_lone_ones(1111) ➞ 0\n",
    "\n",
    "count_lone_ones(462) ➞ 0"
   ]
  },
  {
   "cell_type": "code",
   "execution_count": 129,
   "metadata": {},
   "outputs": [
    {
     "name": "stdout",
     "output_type": "stream",
     "text": [
      "Please enter a number : 101\n",
      "Output :  2\n"
     ]
    }
   ],
   "source": [
    "def count_lone_ones(num):\n",
    "    count = 0\n",
    "    str1 = str(num)\n",
    "    for index in range(0, len(str1)):\n",
    "        if str1[index] == '1':\n",
    "            if index == 0 and str1[index + 1] != '1':\n",
    "                count += 1\n",
    "            if index == len(str1)-1:\n",
    "                if str1[index - 1] != '1':\n",
    "                    count += 1\n",
    "            elif str1[index - 1] != '1' and str1[index + 1] != '1':\n",
    "                count += 1\n",
    "    return count\n",
    "num = int(input(\"Please enter a number : \"))\n",
    "print(\"Output : \", count_lone_ones(num))"
   ]
  },
  {
   "cell_type": "raw",
   "metadata": {},
   "source": [
    "3. Write a method that accepts two integer parameters rows and cols. The output is a 2d array of numbers displayed in column-major order, meaning the numbers shown increase sequentially down each column and wrap to the top of the next column to the right once the bottom of the current column is reached.\n",
    "\n",
    "Examples\n",
    "\n",
    "printGrid(3, 6) ➞ [\n",
    "  [1, 4, 7, 10, 13, 16],\n",
    "  [2, 5, 8, 11, 14, 17],\n",
    "  [3, 6, 9, 12, 15, 18]\n",
    "]\n",
    "\n",
    "printGrid(5, 3) ➞ [\n",
    "  [1, 6, 11],\n",
    "  [2, 7, 12],\n",
    "  [3, 8, 13],\n",
    "  [4, 9, 14],\n",
    "  [5, 10, 15]\n",
    "]\n",
    "\n",
    "printGrid(4, 1) ➞ [\n",
    "  [1],\n",
    "  [2],\n",
    "  [3],\n",
    "  [4]\n",
    "]"
   ]
  },
  {
   "cell_type": "code",
   "execution_count": 63,
   "metadata": {},
   "outputs": [
    {
     "name": "stdout",
     "output_type": "stream",
     "text": [
      "Input the value for n : 3\n",
      "Input the value for m : 6\n"
     ]
    },
    {
     "data": {
      "text/plain": [
       "[[1, 4, 7, 10, 13, 16], [2, 5, 8, 11, 14, 17], [3, 6, 9, 12, 15, 18]]"
      ]
     },
     "execution_count": 63,
     "metadata": {},
     "output_type": "execute_result"
    }
   ],
   "source": [
    "def printGrid(n,m):\n",
    "    nlst = []\n",
    "    for i in range(1,n+1):\n",
    "        lst = []\n",
    "        lst.append(i)\n",
    "        k = 0\n",
    "        for j in range(0,m-1):\n",
    "            k = lst[j] + n\n",
    "            lst.append(k)\n",
    "        nlst.append(lst)\n",
    "    return nlst\n",
    "n = int(input(\"Input the value for n : \"))\n",
    "m = int(input(\"Input the value for m : \"))\n",
    "\n",
    "printGrid(n,m)"
   ]
  },
  {
   "cell_type": "raw",
   "metadata": {},
   "source": [
    "4. Given a list of integers, return the smallest positive integer not present in the list.\n",
    "\n",
    "Here is a representative example. Consider the list:\n",
    "\n",
    "[-2, 6, 4, 5, 7, -1, 7, 1, 3, 6, 6, -2, 9, 10, 2, 2]\n",
    "\n",
    "After reordering, the list becomes:\n",
    "\n",
    "[-2, -2, -1, 1, 2, 2, 3, 4, 5, 6, 6, 6, 7, 7, 9, 10]\n",
    "\n",
    "from which we see that the smallest missing positive integer is 8.\n",
    "\n",
    "Examples\n",
    "\n",
    "min_miss_pos([-2, 6, 4, 5, 7, -1, 1, 3, 6, -2, 9, 10, 2, 2]) ➞ 8\n",
    "# After sorting, list becomes [-2, -2, -1, 1, 2, 2, 3, 4, 5, 6, 6, 7, 9, 10]\n",
    "# So the smallest missing positive integer is 8\n",
    "\n",
    "min_miss_pos([5, 9, -2, 0, 1, 3, 9, 3, 8, 9]) ➞ 2\n",
    "# After sorting, list becomes [-2, 0, 1, 3, 3, 5, 8, 9, 9, 9]\n",
    "# So the smallest missing positive integer is 2\n",
    "\n",
    "min_miss_pos([0, 4, 4, -1, 9, 4, 5, 2, 10, 7, 6, 3, 10, 9]) ➞ 1\n",
    "# After sorting, list becomes [-1, 0, 2, 3, 4, 4, 4, 5, 6, 7, 9, 9, 10, 10]\n",
    "# So the smallest missing positive integer is 1"
   ]
  },
  {
   "cell_type": "code",
   "execution_count": 79,
   "metadata": {},
   "outputs": [
    {
     "name": "stdout",
     "output_type": "stream",
     "text": [
      "Output :  1\n"
     ]
    }
   ],
   "source": [
    "def min_miss_pos(lst):\n",
    "    lst.sort()\n",
    "    for i in range(0,len(lst)-1):\n",
    "        if lst[i] >= 0:\n",
    "            if lst[i+1] == lst[i] + 1 or lst[i+1] == lst[i]:\n",
    "                continue\n",
    "            else:\n",
    "                return lst[i] + 1\n",
    "lst = [0, 4, 4, -1, 9, 4, 5, 2, 10, 7, 6, 3, 10, 9]\n",
    "print(\"Output : \", min_miss_pos(lst))"
   ]
  },
  {
   "cell_type": "raw",
   "metadata": {},
   "source": [
    "5. Google is launching a network of autonomous pizza delivery drones and wants you to create a flexible rewards system (Pizza Points™) that can be tweaked in the future. The rules are simple: if a customer has made at least N orders of at least Y price, they get a FREE pizza!\n",
    "\n",
    "Create a function that takes a dictionary of customers, a minimum number of orders and a minimum order price. Return a list of customers that are eligible for a free pizza.\n",
    "\n",
    "Examples\n",
    "\n",
    "customers = {\n",
    "  \"Batman\": [22, 30, 11, 17, 15, 52, 27, 12],\n",
    "  \"Spider-Man\": [5, 17, 30, 33, 40, 22, 26, 10, 11, 45]\n",
    "}\n",
    "\n",
    "  pizza_points(customers, 5, 20) ➞ [\"Spider-Man\"]\n",
    "\n",
    "  pizza_points(customers, 3, 10) ➞ [\"Batman\", \"Spider-Man\"]\n",
    "\n",
    "  pizza_points(customers, 5, 100) ➞ []\n"
   ]
  },
  {
   "cell_type": "code",
   "execution_count": 88,
   "metadata": {},
   "outputs": [
    {
     "data": {
      "text/plain": [
       "['Batman', 'Spider-Man']"
      ]
     },
     "execution_count": 88,
     "metadata": {},
     "output_type": "execute_result"
    }
   ],
   "source": [
    "def pizza_points(customers, minOrder , minPrice):\n",
    "    lst = []\n",
    "    for k,v in customers.items():\n",
    "        count = 0\n",
    "        for price in v:\n",
    "            if price > minPrice:\n",
    "                count += 1\n",
    "        if count > 5:\n",
    "            lst.append(k)\n",
    "    return lst\n",
    "customers = { \"Batman\": [22, 30, 11, 17, 15, 52, 27, 12],\"Spider-Man\": [5, 17, 30, 33, 40, 22, 26, 10, 11, 45]}\n",
    "pizza_points(customers, 3, 10)"
   ]
  },
  {
   "cell_type": "code",
   "execution_count": null,
   "metadata": {},
   "outputs": [],
   "source": []
  }
 ],
 "metadata": {
  "kernelspec": {
   "display_name": "Python 3",
   "language": "python",
   "name": "python3"
  },
  "language_info": {
   "codemirror_mode": {
    "name": "ipython",
    "version": 3
   },
   "file_extension": ".py",
   "mimetype": "text/x-python",
   "name": "python",
   "nbconvert_exporter": "python",
   "pygments_lexer": "ipython3",
   "version": "3.8.3"
  }
 },
 "nbformat": 4,
 "nbformat_minor": 4
}
