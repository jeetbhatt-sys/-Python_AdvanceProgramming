{
 "cells": [
  {
   "cell_type": "raw",
   "metadata": {},
   "source": [
    "1. Create a function that takes the width, height and character and returns a picture frame as a 2D list.\n",
    "\n",
    "Examples\n",
    "\n",
    "get_frame(4, 5, \"#\") ➞ [\n",
    "  [\"####\"],\n",
    "  [\"#  #\"],\n",
    "  [\"#  #\"],\n",
    "  [\"#  #\"],\n",
    "  [\"####\"]\n",
    "]\n",
    "# Frame is 4 characters wide and 5 characters tall.\n",
    "\n",
    "\n",
    "get_frame(10, 3, \"*\") ➞ [\n",
    "  [\"**********\"],\n",
    "  [\"*        *\"],\n",
    "  [\"**********\"]\n",
    "]\n",
    "# Frame is 10 characters and wide and 3 characters tall.\n",
    "\n",
    "\n",
    "get_frame(2, 5, \"0\") ➞ \"invalid\"\n",
    "# Frame's width is not more than 2.\n",
    "\n"
   ]
  },
  {
   "cell_type": "code",
   "execution_count": 22,
   "metadata": {},
   "outputs": [
    {
     "name": "stdout",
     "output_type": "stream",
     "text": [
      "Please enter the width : 4\n",
      "Please enter the height : 5\n",
      "Please enter one char : #\n",
      "['####']\n",
      "['#  #']\n",
      "['#  #']\n",
      "['#  #']\n",
      "['####']\n"
     ]
    }
   ],
   "source": [
    "def get_frame(width,height,char):\n",
    "    lst = []\n",
    "    if width <= 2 or height <= 2:\n",
    "        return \"Invalid\"\n",
    "    for i in range(height):\n",
    "        if i == 0 or i == height-1:\n",
    "            lst.append([char*width])\n",
    "        else:\n",
    "            temp = char + str(' ' *(width-2)) + char\n",
    "            lst.append([temp])\n",
    "    return lst\n",
    "\n",
    "width = int(input(\"Please enter the width : \"))\n",
    "height = int(input(\"Please enter the height : \"))\n",
    "char = input(\"Please enter one char : \")\n",
    "\n",
    "out = get_frame(width, height, char)\n",
    "if out == \"Invalid\":\n",
    "    print(\"Invalid\")\n",
    "else:\n",
    "    for i in out:\n",
    "        print(i)"
   ]
  },
  {
   "cell_type": "raw",
   "metadata": {},
   "source": [
    "2. Write three functions:\n",
    "\n",
    "  1. boolean_and\n",
    "  2. boolean_or\n",
    "  3. boolean_xor\n",
    "These functions should evaluate a list of True and False values, starting from the leftmost element and evaluating pairwise.\n",
    "\n",
    "Examples\n",
    "\n",
    "boolean_and([True, True, False, True]) ➞ False\n",
    "# [True, True, False, True] => [True, False, True] => [False, True] => False\n",
    "\n",
    "boolean_or([True, True, False, False]) ➞ True\n",
    "# [True, True, False, True] => [True, False, False] => [True, False] => True\n",
    "\n",
    "boolean_xor([True, True, False, False]) ➞ False\n",
    "# [True, True, False, False] => [False, False, False] => [False, False] => False\n"
   ]
  },
  {
   "cell_type": "code",
   "execution_count": 29,
   "metadata": {},
   "outputs": [
    {
     "name": "stdout",
     "output_type": "stream",
     "text": [
      "Boolean And :  False\n",
      "Boolean OR :  True\n",
      "Boolean Xor :  False\n"
     ]
    }
   ],
   "source": [
    "def boolean_and(lst):\n",
    "    res = lst[0]\n",
    "    for i in range(1,len(lst)):\n",
    "        res = res and lst[i]\n",
    "    return res\n",
    "def boolean_or(lst):\n",
    "    res = lst[0]\n",
    "    for i in range(1,len(lst)):\n",
    "        res = res or lst[i]\n",
    "    return res        \n",
    "def boolean_xor(lst):\n",
    "    res = lst[0]\n",
    "    for i in range(1,len(lst)):\n",
    "        res = res ^ lst[i]\n",
    "    return res     \n",
    "\n",
    "lst = [True, True, False, False]\n",
    "\n",
    "print(\"Boolean And : \", boolean_and(lst))\n",
    "print(\"Boolean OR : \", boolean_or(lst))\n",
    "print(\"Boolean Xor : \", boolean_xor(lst))"
   ]
  },
  {
   "cell_type": "raw",
   "metadata": {},
   "source": [
    "3. Create a function that creates a box based on dimension n.\n",
    "\n",
    "Examples\n",
    "\n",
    "make_box(5) ➞ [\n",
    "  \"#####\",\n",
    "  \"#   #\",\n",
    "  \"#   #\",\n",
    "  \"#   #\",\n",
    "  \"#####\"\n",
    "]\n",
    "\n",
    "make_box(3) ➞ [\n",
    "  \"###\",\n",
    "  \"# #\",\n",
    "  \"###\"\n",
    "]\n",
    "\n",
    "make_box(2) ➞ [\n",
    "  \"##\",\n",
    "  \"##\"\n",
    "]\n",
    "\n",
    "make_box(1) ➞ [\n",
    "  \"#\"\n",
    "]"
   ]
  },
  {
   "cell_type": "code",
   "execution_count": 36,
   "metadata": {},
   "outputs": [
    {
     "name": "stdout",
     "output_type": "stream",
     "text": [
      "Please Enter size of box : 5\n",
      "#####\n",
      "#   #\n",
      "#   #\n",
      "#   #\n",
      "#####\n"
     ]
    }
   ],
   "source": [
    "def make_box(size):\n",
    "    lst = []\n",
    "    for i in range(size):\n",
    "        if i == 0 or i == size-1:\n",
    "            lst.append('#'*size)\n",
    "        else:\n",
    "            temp = \"#\" + str(' ' *(size-2)) + \"#\"\n",
    "            lst.append(temp)\n",
    "    return lst\n",
    "\n",
    "size = int(input(\"Please Enter size of box : \"))\n",
    "for i in make_box(size):\n",
    "    print(i)"
   ]
  },
  {
   "cell_type": "raw",
   "metadata": {},
   "source": [
    "4. Given a common phrase, return False if any individual word in the phrase contains duplicate letters. Return True otherwise.\n",
    "\n",
    "Examples\n",
    "\n",
    "no_duplicate_letters(\"Fortune favours the bold.\") ➞ True\n",
    "\n",
    "no_duplicate_letters(\"You can lead a horse to water, but you can't make him drink.\") ➞ True\n",
    "\n",
    "no_duplicate_letters(\"Look before you leap.\") ➞ False\n",
    "# Duplicate letters in \"Look\" and \"before\".\n",
    "\n",
    "no_duplicate_letters(\"An apple a day keeps the doctor away.\") ➞ False\n",
    "# Duplicate letters in \"apple\", \"keeps\", \"doctor\", and \"away\".\n"
   ]
  },
  {
   "cell_type": "code",
   "execution_count": 48,
   "metadata": {},
   "outputs": [
    {
     "name": "stdout",
     "output_type": "stream",
     "text": [
      "Please Enter a string : An apple a day keeps the doctor away.\n",
      "individual word in the phrase contains duplicate letters :  False\n"
     ]
    }
   ],
   "source": [
    "def no_duplicate_letters(str1):    \n",
    "    for word in str1.split():\n",
    "        temp = []\n",
    "        for c in word:\n",
    "            if c not in temp:\n",
    "                temp.append(c)\n",
    "            else:\n",
    "                return False\n",
    "    return True\n",
    "\n",
    "str1 = input(\"Please Enter a string : \")\n",
    "print(\"individual word in the phrase contains duplicate letters : \", no_duplicate_letters(str1))"
   ]
  },
  {
   "cell_type": "raw",
   "metadata": {},
   "source": [
    "5. Write a regular expression that will match the states that voted yes to President Trump's impeachment. You must use RegEx positive lookahead.\n",
    "\n",
    "Example\n",
    "\n",
    "txt = \"Texas = no, California = yes, Florida = yes, Michigan = no\"\n",
    "pattern = \"yourregularexpressionhere\"\n",
    "\n",
    "re.findall(pattern, txt) ➞ [\"California\", \"Florida\"]\n"
   ]
  },
  {
   "cell_type": "code",
   "execution_count": 90,
   "metadata": {},
   "outputs": [
    {
     "name": "stdout",
     "output_type": "stream",
     "text": [
      "No of states Voted yes :  2\n"
     ]
    }
   ],
   "source": [
    "import re\n",
    "txt = \"Texas = no, California = yes, Florida = yes, Michigan = no\"\n",
    "pattern = r' = yes(?=)'\n",
    "\n",
    "print(\"No of states Voted yes : \", len(re.findall(pattern, txt)))"
   ]
  },
  {
   "cell_type": "code",
   "execution_count": null,
   "metadata": {},
   "outputs": [],
   "source": []
  }
 ],
 "metadata": {
  "kernelspec": {
   "display_name": "Python 3",
   "language": "python",
   "name": "python3"
  },
  "language_info": {
   "codemirror_mode": {
    "name": "ipython",
    "version": 3
   },
   "file_extension": ".py",
   "mimetype": "text/x-python",
   "name": "python",
   "nbconvert_exporter": "python",
   "pygments_lexer": "ipython3",
   "version": "3.8.3"
  }
 },
 "nbformat": 4,
 "nbformat_minor": 4
}
