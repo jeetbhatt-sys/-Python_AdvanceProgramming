{
 "cells": [
  {
   "cell_type": "raw",
   "metadata": {},
   "source": [
    "1. Create a function to perform basic arithmetic operations that includes addition, subtraction, multiplication and division on a string number (e.g. \"12 + 24\" or \"23 - 21\" or \"12 // 12\" or \"12 * 21\").\n",
    "\n",
    "Here, we have 1 followed by a space, operator followed by another space and 2. For the challenge, we are going to have only two numbers between 1 valid operator. The return value should be a number.\n",
    "\n",
    "eval() is not allowed. In case of division, whenever the second number equals \"0\" return -1.\n",
    "\n",
    "For example:\n",
    "\n",
    "\"15 // 0\"  ➞ -1\n",
    "\n",
    "Examples\n",
    "\n",
    "arithmetic_operation(\"12 + 12\") ➞ 24 // 12 + 12 = 24\n",
    "\n",
    "arithmetic_operation(\"12 - 12\") ➞ 24 // 12 - 12 = 0\n",
    "\n",
    "arithmetic_operation(\"12 * 12\") ➞ 144 // 12 * 12 = 144\n",
    "\n",
    "arithmetic_operation(\"12 // 0\") ➞ -1 // 12 / 0 = -1\n"
   ]
  },
  {
   "cell_type": "code",
   "execution_count": 8,
   "metadata": {},
   "outputs": [
    {
     "name": "stdout",
     "output_type": "stream",
     "text": [
      "Please Enter your string : 15 // 0\n",
      "Output :  -1\n"
     ]
    }
   ],
   "source": [
    "def arithmeticOperation(str1):\n",
    "    a,o,b = str1.split()\n",
    "    a = int(a)\n",
    "    b = int(b)\n",
    "    if o == '+':\n",
    "        return a + b\n",
    "    elif o == '-':\n",
    "        return a - b\n",
    "    elif o == '*':\n",
    "        return a * b\n",
    "    elif o == '//':\n",
    "        if b == 0:\n",
    "            return -1\n",
    "        else:\n",
    "            return a // b\n",
    "\n",
    "str1 = input(\"Please Enter your string : \")\n",
    "print(\"Output : \", arithmeticOperation(str1))\n",
    "    "
   ]
  },
  {
   "cell_type": "raw",
   "metadata": {},
   "source": [
    "2. Write a function that takes the coordinates of three points in the form of a 2d array and returns the perimeter of the triangle. The given points are the vertices of a triangle on a two-dimensional plane.\n",
    "\n",
    "Examples\n",
    "\n",
    "perimeter( [ [15, 7], [5, 22], [11, 1] ] ) ➞ 47.08\n",
    "\n",
    "perimeter( [ [0, 0], [0, 1], [1, 0] ] ) ➞ 3.42\n",
    "\n",
    "perimeter( [ [-10, -10], [10, 10 ], [-10, 10] ] ) ➞ 68.28\n"
   ]
  },
  {
   "cell_type": "code",
   "execution_count": 15,
   "metadata": {},
   "outputs": [
    {
     "name": "stdout",
     "output_type": "stream",
     "text": [
      "Perimeter :  68.28\n"
     ]
    }
   ],
   "source": [
    "import math\n",
    "def perimeter(l):   \n",
    "    a = math.sqrt((l[1][0] - l[0][0])**2 + (l[1][1] - l[0][1])**2)\n",
    "    b = math.sqrt((l[2][0] - l[1][0])**2 + (l[2][1] - l[1][1])**2)\n",
    "    c = math.sqrt((l[2][0] - l[0][0])**2 + (l[2][1] - l[0][1])**2)\n",
    "    return round(a+b+c,2)\n",
    "\n",
    "l = [ [-10, -10], [10, 10 ], [-10, 10] ]\n",
    "print(\"Perimeter : \", perimeter(l))"
   ]
  },
  {
   "cell_type": "raw",
   "metadata": {},
   "source": [
    "3. A city skyline can be represented as a 2-D list with 1s representing buildings. In the example below, the height of the tallest building is 4 (second-most right column).\n",
    "\n",
    "[[0, 0, 0, 0, 0, 0],\n",
    "[0, 0, 0, 0, 1, 0],\n",
    "[0, 0, 1, 0, 1, 0],\n",
    "[0, 1, 1, 1, 1, 0],\n",
    "[1, 1, 1, 1, 1, 1]]\n",
    "\n",
    "Create a function that takes a skyline (2-D list of 0's and 1's) and returns the height of the tallest skyscraper.\n",
    "\n",
    "Examples\n",
    "\n",
    "tallest_skyscraper([\n",
    "  [0, 0, 0, 0],\n",
    "  [0, 1, 0, 0],\n",
    "  [0, 1, 1, 0],\n",
    "  [1, 1, 1, 1]\n",
    "]) ➞ 3\n",
    "\n",
    "tallest_skyscraper([\n",
    "  [0, 1, 0, 0],\n",
    "  [0, 1, 0, 0],\n",
    "  [0, 1, 1, 0],\n",
    "  [1, 1, 1, 1]\n",
    "]) ➞ 4\n",
    "\n",
    "tallest_skyscraper([\n",
    "  [0, 0, 0, 0],\n",
    "  [0, 0, 0, 0],\n",
    "  [1, 1, 1, 0],\n",
    "  [1, 1, 1, 1]\n",
    "]) ➞ 2\n"
   ]
  },
  {
   "cell_type": "code",
   "execution_count": 34,
   "metadata": {},
   "outputs": [
    {
     "name": "stdout",
     "output_type": "stream",
     "text": [
      "Highest Building :  4\n"
     ]
    }
   ],
   "source": [
    "def tallest_skyscraper(lst):\n",
    "    total = 0\n",
    "    for j in range(0,len(lst)):\n",
    "        t = 0\n",
    "        for i in range(len(lst)-1,-1,-1):\n",
    "            t +=lst[i][j]\n",
    "        if t > total:\n",
    "            total = t\n",
    "    return (total)\n",
    "\n",
    "lst = [[0, 0, 0, 0, 0, 0],\n",
    "[0, 0, 0, 0, 1, 0],\n",
    "[0, 0, 1, 0, 1, 0],\n",
    "[0, 1, 1, 1, 1, 0],\n",
    "[1, 1, 1, 1, 1, 1]]\n",
    "\n",
    "print(\"Highest Building : \", tallest_skyscraper(lst))"
   ]
  },
  {
   "cell_type": "raw",
   "metadata": {},
   "source": [
    "4. A financial institution provides professional services to banks and claims charges from the customers based on the number of man-days provided. Internally, it has set a scheme to motivate and reward staff to meet and exceed targeted billable utilization and revenues by paying a bonus for each day claimed from customers in excess of a threshold target.\n",
    "\n",
    "This quarterly scheme is calculated with a threshold target of 32 days per quarter, and the incentive payment for each billable day in excess of such threshold target is shown as follows:\n",
    "\n",
    "Days\t                             Bonus\n",
    "0 to 32 days\t                   Zero\n",
    "33 to 40 days\t         SGD$325 per billable day\n",
    "41 to 48 days\t         SGD$550 per billable day\n",
    "Greater than 48 days      SGD$600 per billable day\n",
    "\n",
    "Please note that incentive payment is calculated progressively. As an example, if an employee reached total billable days of 45 in a quarter, his/her incentive payment is computed as follows:\n",
    "\n",
    "32*0 + 8*325 + 5*550 = 5350\n",
    "\n",
    "Write a function to read the billable days of an employee and return the bonus he/she has obtained in that quarter.\n",
    "\n",
    "Examples\n",
    "\n",
    "bonus(15) ➞ 0\n",
    "\n",
    "bonus(37) ➞ 1625\n",
    "\n",
    "bonus(50) ➞ 8200\n"
   ]
  },
  {
   "cell_type": "code",
   "execution_count": 38,
   "metadata": {},
   "outputs": [
    {
     "name": "stdout",
     "output_type": "stream",
     "text": [
      "Please Enter No of days : 55\n",
      "Bonus :  11150\n"
     ]
    }
   ],
   "source": [
    "def bonus(days):\n",
    "    total = 0\n",
    "    if days <= 32:\n",
    "        return 0\n",
    "    else:\n",
    "        left = days-32\n",
    "        if left <= 8:\n",
    "            return left * 325\n",
    "        else:\n",
    "            total += 8 * 325\n",
    "            left -= 8\n",
    "        if left <= 9 :\n",
    "            total += left * 550\n",
    "            return total\n",
    "        else:\n",
    "            total += 9 * 550\n",
    "            left -=9\n",
    "        if left > 0:\n",
    "            total += left * 600\n",
    "        return total\n",
    "\n",
    "days = int(input(\"Please Enter No of days : \"))\n",
    "print(\"Bonus : \", bonus(days))"
   ]
  },
  {
   "cell_type": "raw",
   "metadata": {},
   "source": [
    "5. A number is said to be Disarium if the sum of its digits raised to their respective positions is the number itself.\n",
    "\n",
    "Create a function that determines whether a number is a Disarium or not.\n",
    "\n",
    "Examples\n",
    "\n",
    "is_disarium(75) ➞ False\n",
    "# 7^1 + 5^2 = 7 + 25 = 32\n",
    "\n",
    "is_disarium(135) ➞ True\n",
    "# 1^1 + 3^2 + 5^3 = 1 + 9 + 125 = 135\n",
    "\n",
    "is_disarium(544) ➞ False\n",
    "\n",
    "is_disarium(518) ➞ True\n",
    "\n",
    "is_disarium(466) ➞ False\n",
    "\n",
    "is_disarium(8) ➞ True\n"
   ]
  },
  {
   "cell_type": "code",
   "execution_count": 42,
   "metadata": {},
   "outputs": [
    {
     "name": "stdout",
     "output_type": "stream",
     "text": [
      "Please Enter a number: 518\n",
      "Entered Number is Disarium :  True\n"
     ]
    }
   ],
   "source": [
    "def is_disarium(num):\n",
    "    f = 0\n",
    "    for i in range(0, len(num)):\n",
    "        f += int(num[i])**(i+1)\n",
    "    if int(num) == f:\n",
    "        return True\n",
    "    else:\n",
    "        return False\n",
    "\n",
    "num = input(\"Please Enter a number: \")\n",
    "print(\"Entered Number is Disarium : \", is_disarium(num))"
   ]
  },
  {
   "cell_type": "code",
   "execution_count": null,
   "metadata": {},
   "outputs": [],
   "source": []
  }
 ],
 "metadata": {
  "kernelspec": {
   "display_name": "Python 3",
   "language": "python",
   "name": "python3"
  },
  "language_info": {
   "codemirror_mode": {
    "name": "ipython",
    "version": 3
   },
   "file_extension": ".py",
   "mimetype": "text/x-python",
   "name": "python",
   "nbconvert_exporter": "python",
   "pygments_lexer": "ipython3",
   "version": "3.8.3"
  }
 },
 "nbformat": 4,
 "nbformat_minor": 4
}
