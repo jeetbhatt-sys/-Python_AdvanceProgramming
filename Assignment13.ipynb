{
 "cells": [
  {
   "cell_type": "raw",
   "metadata": {},
   "source": [
    "1. Create a function that takes a list and string. The function should remove the letters in the string from the list, and return the list.\n",
    "\n",
    "Examples\n",
    "\n",
    "remove_letters([\"s\", \"t\", \"r\", \"i\", \"n\", \"g\", \"w\"], \"string\") ➞ [\"w\"]\n",
    "\n",
    "remove_letters([\"b\", \"b\", \"l\", \"l\", \"g\", \"n\", \"o\", \"a\", \"w\"], \"balloon\") ➞ [\"b\", \"g\", \"w\"]\n",
    "\n",
    "remove_letters([\"d\", \"b\", \"t\", \"e\", \"a\", \"i\"], \"edabit\") ➞ []\n"
   ]
  },
  {
   "cell_type": "code",
   "execution_count": 5,
   "metadata": {},
   "outputs": [
    {
     "name": "stdout",
     "output_type": "stream",
     "text": [
      "Output :  ['b', 'g', 'w']\n"
     ]
    }
   ],
   "source": [
    "def remove_letters(lst, string):\n",
    "    nlst = []\n",
    "    for c in lst:\n",
    "        if c not in string:\n",
    "            nlst.append(c)\n",
    "        else:\n",
    "            i = string.find(c)\n",
    "            string = string[0:i] + string[i+1:]\n",
    "    return nlst\n",
    "\n",
    "lst = [\"b\", \"b\", \"l\", \"l\", \"g\", \"n\", \"o\", \"a\", \"w\"]\n",
    "string = \"balloon\"\n",
    "\n",
    "print(\"Output : \", remove_letters(lst, string))\n"
   ]
  },
  {
   "cell_type": "raw",
   "metadata": {},
   "source": [
    "2. A block sequence in three dimensions. We can write a formula for this one:\n",
    "\n",
    "Create a function that takes a number (step) as an argument and returns the amount of blocks in that step.\n",
    "\n",
    "Examples\n",
    "\n",
    "blocks(1) ➞ 5\n",
    "\n",
    "blocks(2) ➞ 12\n",
    "\n",
    "block(3) --> 20\n",
    "\n",
    "blocks(5) ➞ 39"
   ]
  },
  {
   "cell_type": "code",
   "execution_count": 2,
   "metadata": {},
   "outputs": [
    {
     "name": "stdout",
     "output_type": "stream",
     "text": [
      "Please enter the steps : 4\n",
      "No of blocks :  29\n"
     ]
    }
   ],
   "source": [
    "def blocks(num1):\n",
    "    return int(num1**2/2 + 11*num1/2 - 1)\n",
    "\n",
    "\n",
    "num1 = int(input(\"Please enter the steps : \"))\n",
    "print(\"No of blocks : \", blocks(num1))"
   ]
  },
  {
   "cell_type": "raw",
   "metadata": {},
   "source": [
    "3. Create a function that subtracts one positive integer from another, without using any arithmetic operators such as -, %, /, +, etc.\n",
    "\n",
    "Examples\n",
    "\n",
    "my_sub(5, 9) ➞ 4\n",
    "\n",
    "my_sub(10, 30) ➞ 20\n",
    "\n",
    "my_sub(0, 0) ➞ 0"
   ]
  },
  {
   "cell_type": "code",
   "execution_count": 6,
   "metadata": {},
   "outputs": [
    {
     "name": "stdout",
     "output_type": "stream",
     "text": [
      "Enter first number : 5\n",
      "Enter  second number : 9\n",
      "Subtraction of two number is :  4\n"
     ]
    }
   ],
   "source": [
    "def my_sub(num1, num2):\n",
    "    return num2 + (~num1+1)\n",
    "\n",
    "num1 = int(input(\"Enter first number : \"))\n",
    "num2 = int(input(\"Enter  second number : \"))\n",
    "print(\"Subtraction of two number is : \",my_sub(num1,num2))"
   ]
  },
  {
   "cell_type": "raw",
   "metadata": {},
   "source": [
    "4. Create a function that takes a string containing money in dollars and pounds sterling (seperated by comma) and returns the sum of dollar bills only, as an integer.\n",
    "\n",
    "For the input string:\n",
    "\n",
    "   - Each amount is prefixed by the currency symbol: $ for dollars and £ for pounds.\n",
    "   - Thousands are represented by the suffix k.\n",
    "\n",
    "i.e. $4k = $4,000 and £40k = £40,000\n",
    "\n",
    "Examples\n",
    "\n",
    "add_bill(\"d20,p40,p60,d50\") ➞ 20 + 50 = 70\n",
    "\n",
    "add_bill(\"p30,d20,p60,d150,p360\") ➞ 20  + 150 = 170\n",
    "\n",
    "add_bill(\"p30,d2k,p60,d200,p360\") ➞ 2 * 1000 + 200 = 2200"
   ]
  },
  {
   "cell_type": "code",
   "execution_count": 19,
   "metadata": {},
   "outputs": [
    {
     "name": "stdout",
     "output_type": "stream",
     "text": [
      "Please Enter one string : p30,d2k,p60,d200k,p360\n",
      "Total of bills :  202000\n"
     ]
    }
   ],
   "source": [
    "def add_bill(str1):\n",
    "    lst = str1.split(',')\n",
    "    amt = 0\n",
    "    for e in lst:\n",
    "        if e[0] == '$' or e[0] == 'd':\n",
    "            if e[1:len(e)].find('k') != -1:\n",
    "                amt += int(e[1:len(e)-1])*1000\n",
    "            else:\n",
    "                amt += int(e[1:len(e)])\n",
    "    return amt\n",
    "\n",
    "str1 = input(\"Please Enter one string : \")\n",
    "\n",
    "print(\"Total of bills : \", add_bill(str1))\n"
   ]
  },
  {
   "cell_type": "raw",
   "metadata": {},
   "source": [
    "5. Create a function that flips a horizontal list into a vertical list, and a vertical list into a horizontal list.\n",
    "\n",
    "In other words, take an 1 x n list (1 row + n columns) and flip it into a n x 1 list (n rows and 1 column), and vice versa.\n",
    "\n",
    "Examples\n",
    "\n",
    "flip_list([1, 2, 3, 4]) ➞ [[1], [2], [3], [4]]\n",
    "# Take a horizontal list and flip it vertical.\n",
    "\n",
    "flip_list([[5], [6], [9]]) ➞ [5, 6, 9]\n",
    "# Take a vertical list and flip it horizontal.\n",
    "\n",
    "flip_list([]) ➞ []"
   ]
  },
  {
   "cell_type": "code",
   "execution_count": 35,
   "metadata": {},
   "outputs": [
    {
     "name": "stdout",
     "output_type": "stream",
     "text": [
      "Output :  [5, 6, 9]\n"
     ]
    }
   ],
   "source": [
    "def flip_list(lstoflst):\n",
    "    nlst = []\n",
    "    for e in lstoflst:\n",
    "        if type(e) == list:\n",
    "            for i in e:\n",
    "                nlst.append(i)\n",
    "        else:\n",
    "            nlst.append([e])\n",
    "    return nlst\n",
    "\n",
    "lstoflst = [[5], [6], [9]]\n",
    "print(\"Output : \", flip_list(lstoflst))\n"
   ]
  },
  {
   "cell_type": "code",
   "execution_count": null,
   "metadata": {},
   "outputs": [],
   "source": []
  },
  {
   "cell_type": "code",
   "execution_count": null,
   "metadata": {},
   "outputs": [],
   "source": []
  }
 ],
 "metadata": {
  "kernelspec": {
   "display_name": "Python 3",
   "language": "python",
   "name": "python3"
  },
  "language_info": {
   "codemirror_mode": {
    "name": "ipython",
    "version": 3
   },
   "file_extension": ".py",
   "mimetype": "text/x-python",
   "name": "python",
   "nbconvert_exporter": "python",
   "pygments_lexer": "ipython3",
   "version": "3.8.3"
  }
 },
 "nbformat": 4,
 "nbformat_minor": 4
}
