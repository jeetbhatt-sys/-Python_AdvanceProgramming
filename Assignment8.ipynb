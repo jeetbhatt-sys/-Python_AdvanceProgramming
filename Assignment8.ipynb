{
 "cells": [
  {
   "cell_type": "raw",
   "metadata": {},
   "source": [
    "1. Given a sentence as txt, return True if any two adjacent words have this property: One word ends with a vowel, while the word immediately after begins with a vowel (a e i o u).\n",
    "\n",
    "Examples\n",
    "\n",
    "vowel_links(\"a very large appliance\") ➞ True\n",
    "\n",
    "vowel_links(\"go to edabit\") ➞ True\n",
    "\n",
    "vowel_links(\"an open fire\") ➞ False\n",
    "\n",
    "vowel_links(\"a sudden applause\") ➞ False\n"
   ]
  },
  {
   "cell_type": "code",
   "execution_count": 26,
   "metadata": {},
   "outputs": [
    {
     "name": "stdout",
     "output_type": "stream",
     "text": [
      "Please enter a string : an open fire\n",
      "Is vowel link :  False\n"
     ]
    }
   ],
   "source": [
    "def vowel_links(str1):\n",
    "    vowel = 'aeiou'\n",
    "    lst = str1.split()\n",
    "    i = 0\n",
    "    for j in range(len(lst)-1):\n",
    "        i +=1\n",
    "        if lst[j][len(lst[j])-1] in vowel:\n",
    "            if lst[i][0] in vowel:\n",
    "                return True\n",
    "            else:\n",
    "                continue\n",
    "    return False\n",
    "\n",
    "str1 = input(\"Please enter a string : \")\n",
    "\n",
    "print(\"Is vowel link : \", vowel_links(str1))"
   ]
  },
  {
   "cell_type": "raw",
   "metadata": {},
   "source": [
    "2. You are given three inputs: a string, one letter, and a second letter.\n",
    "\n",
    "Write a function that returns True if every instance of the first letter occurs before every instance of the second letter.\n",
    "\n",
    "Examples\n",
    "\n",
    "first_before_second(\"a rabbit jumps joyfully\", \"a\", \"j\") ➞ True\n",
    "# Every instance of \"a\" occurs before every instance of \"j\".\n",
    "\n",
    "first_before_second(\"knaves knew about waterfalls\", \"k\", \"w\") ➞  True\n",
    "\n",
    "first_before_second(\"happy birthday\", \"a\", \"y\") ➞ False\n",
    "# The \"a\" in \"birthday\" occurs after the \"y\" in \"happy\".\n",
    "\n",
    "first_before_second(\"precarious kangaroos\", \"k\", \"a\") ➞ False"
   ]
  },
  {
   "cell_type": "code",
   "execution_count": 10,
   "metadata": {},
   "outputs": [
    {
     "name": "stdout",
     "output_type": "stream",
     "text": [
      "Enter One String : happy birthday\n",
      "Enter one Character : a\n",
      "Enter Another Character : y\n",
      "Output :  False\n"
     ]
    }
   ],
   "source": [
    "def first_before_second(str1,c1,c2):\n",
    "    f = False\n",
    "    l = False\n",
    "    for word in str1.split():\n",
    "        for c in word:\n",
    "            if c == c1:\n",
    "                f = True\n",
    "            if c == c2:\n",
    "                l = True\n",
    "            if f and c == c2:\n",
    "                break\n",
    "            if not(f) and c == c2:\n",
    "                return False\n",
    "            if l and c == c1:\n",
    "                return False\n",
    "    return True\n",
    "\n",
    "str1 = input(\"Enter One String : \")\n",
    "c1 = input(\"Enter one Character : \")\n",
    "c2 = input(\"Enter Another Character : \")\n",
    "print(\"Output : \", first_before_second(str1,c1,c2))"
   ]
  },
  {
   "cell_type": "raw",
   "metadata": {},
   "source": [
    "3. Create a function that returns the characters from a list or string r on odd or even positions, depending on the specifier s. The specifier will be \"odd\" for items on odd positions (1, 3, 5, ...) and \"even\" for items on even positions (2, 4, 6, ...).\n",
    "\n",
    "Examples\n",
    "\n",
    "char_at_pos([2, 4, 6, 8, 10], \"even\") ➞ [4, 8]\n",
    "# 4 & 8 occupy the 2nd & 4th positions\n",
    "\n",
    "char_at_pos(\"EDABIT\", \"odd\") ➞ \"EAI\"\n",
    "# \"E\", \"A\" and \"I\" occupy the 1st, 3rd and 5th positions\n",
    "\n",
    "char_at_pos([\"A\", \"R\", \"B\", \"I\", \"T\", \"R\", \"A\", \"R\", \"I\", \"L\", \"Y\"], \"odd\") ➞ [\"A\", \"B\", \"T\", \"A\", \"I\", \"Y\"]\n"
   ]
  },
  {
   "cell_type": "code",
   "execution_count": 39,
   "metadata": {},
   "outputs": [
    {
     "name": "stdout",
     "output_type": "stream",
     "text": [
      "output :  ['E', 'A', 'I']\n"
     ]
    }
   ],
   "source": [
    "def char_at_pos(lst , opt):\n",
    "    res = []\n",
    "    if opt == 'even':\n",
    "        for i in range(1,len(lst)+1):\n",
    "            if i % 2 == 0:\n",
    "                res.append(lst[i-1])\n",
    "    else:\n",
    "        for i in range(len(lst)):\n",
    "            if i % 2 != 0:\n",
    "                res.append(lst[i-1])\n",
    "    return res\n",
    "\n",
    "inp = 'EDABIT'\n",
    "opt = 'odd'\n",
    "print(\"output : \", char_at_pos(inp , opt))"
   ]
  },
  {
   "cell_type": "raw",
   "metadata": {},
   "source": [
    "4. Write a function that returns the greatest common divisor of all list elements. If the greatest common divisor is 1, return 1.\n",
    "\n",
    "Examples\n",
    "\n",
    "GCD([10, 20, 40]) ➞ 10\n",
    "\n",
    "GCD([1, 2, 3, 100]) ➞ 1\n",
    "\n",
    "GCD([1024, 192, 2048, 512]) ➞ 64\n"
   ]
  },
  {
   "cell_type": "code",
   "execution_count": 44,
   "metadata": {},
   "outputs": [
    {
     "name": "stdout",
     "output_type": "stream",
     "text": [
      "GSD of [1024, 192, 2048, 512] : 64\n"
     ]
    }
   ],
   "source": [
    "def GCD(num1, num2):\n",
    "    while(num2):\n",
    "        num1, num2 = num2, num1 % num2\n",
    "    return num1\n",
    "           \n",
    "lst = [1024, 192, 2048, 512]\n",
    "\n",
    "num1=l[0]\n",
    "num2=l[1]\n",
    "gcd=find_gcd(num1,num2)\n",
    "  \n",
    "for i in range(2,len(l)):\n",
    "    gcd = GCD(gcd,l[i])\n",
    "      \n",
    "print(\"GSD of {} : {}\".format(lst,gcd))"
   ]
  },
  {
   "cell_type": "raw",
   "metadata": {},
   "source": [
    "5. A number/string is a palindrome if the digits/characters are the same when read both forward and backward. Examples include \"racecar\" and 12321. Given a positive number n, check if n or the binary representation of n is palindromic. Return the following:\n",
    "\n",
    "- \"Decimal only.\" if only n is a palindrome.\n",
    "- \"Binary only.\" if only the binary representation of n is a palindrome.\n",
    "- \"Decimal and binary.\" if both are palindromes.\n",
    "- \"Neither!\" if neither are palindromes.\n",
    "\n",
    "Examples\n",
    "\n",
    "palindrome_type(1306031) ➞ \"Decimal only.\"\n",
    "# decimal = 1306031\n",
    "# binary  = \"100111110110110101111\"\n",
    "\n",
    "palindrome_type(427787) ➞ \"Binary only.\"\n",
    "# decimal = 427787\n",
    "# binary  = \"1101000011100001011\"\n",
    "\n",
    "palindrome_type(313) ➞ \"Decimal and binary.\"\n",
    "# decimal = 313\n",
    "# binary  = 100111001\n",
    "\n",
    "palindrome_type(934) ➞ \"Neither!\"\n",
    "# decimal = 934\n",
    "# binary  = \"1110100110\"\n"
   ]
  },
  {
   "cell_type": "code",
   "execution_count": 64,
   "metadata": {},
   "outputs": [
    {
     "name": "stdout",
     "output_type": "stream",
     "text": [
      "Please Enter one number : 313\n",
      "Output :  Decimal and binary.\n"
     ]
    }
   ],
   "source": [
    "def palindrome_type(num):\n",
    "    b = bin(num).replace('0b','')\n",
    "    decimal = False\n",
    "    binary = False\n",
    "    if str(num) == str(num)[::-1]:\n",
    "        decimal = True\n",
    "    if str(b) == str(b)[::-1]:\n",
    "        binary = True\n",
    "    if decimal and binary:\n",
    "        return \"Decimal and binary.\"\n",
    "    elif decimal:\n",
    "        return \"Decimal only.\"\n",
    "    elif binary:\n",
    "        return \"Binary only.\"\n",
    "    else:\n",
    "        return \"Neither!\"\n",
    "\n",
    "num = int(input(\"Please Enter one number : \"))\n",
    "print(\"Output : \", palindrome_type(num))"
   ]
  },
  {
   "cell_type": "code",
   "execution_count": null,
   "metadata": {},
   "outputs": [],
   "source": []
  },
  {
   "cell_type": "code",
   "execution_count": null,
   "metadata": {},
   "outputs": [],
   "source": []
  }
 ],
 "metadata": {
  "kernelspec": {
   "display_name": "Python 3",
   "language": "python",
   "name": "python3"
  },
  "language_info": {
   "codemirror_mode": {
    "name": "ipython",
    "version": 3
   },
   "file_extension": ".py",
   "mimetype": "text/x-python",
   "name": "python",
   "nbconvert_exporter": "python",
   "pygments_lexer": "ipython3",
   "version": "3.8.3"
  }
 },
 "nbformat": 4,
 "nbformat_minor": 4
}
