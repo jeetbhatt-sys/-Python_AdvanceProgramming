{
 "cells": [
  {
   "cell_type": "raw",
   "metadata": {},
   "source": [
    "1. Given a list of numbers, create a function that removes 25% from every number in the list except the smallest number, and adds the total amount removed to the smallest number.\n",
    "\n",
    "Examples\n",
    "\n",
    "show_the_love([4, 1, 4]) ➞ [3, 3, 3]\n",
    "\n",
    "show_the_love([16, 10, 8]) ➞ [12, 7.5, 14.5]\n",
    "\n",
    "show_the_love([2, 100]) ➞ [27, 75]\n"
   ]
  },
  {
   "cell_type": "code",
   "execution_count": 8,
   "metadata": {},
   "outputs": [
    {
     "name": "stdout",
     "output_type": "stream",
     "text": [
      "Output :  [12.0, 7.5, 14.5]\n"
     ]
    }
   ],
   "source": [
    "def show_the_love(lst):\n",
    "    lst.sort()\n",
    "    smallest = lst[0]\n",
    "    nlst = []\n",
    "    for i in range(len(lst)-1,0,-1):\n",
    "        smallest += 0.25 * lst[i]\n",
    "        nlst.append(lst[i] - 0.25*lst[i])\n",
    "    nlst.append(smallest)\n",
    "    return nlst\n",
    "\n",
    "lst = [16, 10, 8]\n",
    "\n",
    "print(\"Output : \", show_the_love(lst))\n",
    "    "
   ]
  },
  {
   "cell_type": "raw",
   "metadata": {},
   "source": [
    "2. Create a function that takes in two words as input and returns a list of three elements, in the following order:\n",
    "\n",
    "   1.Shared letters between two words.\n",
    "   2.Letters unique to word 1.\n",
    "   3.Letters unique to word 2.\n",
    "\n",
    "Each element should have unique letters, and have each letter be alphabetically sorted.\n",
    "\n",
    "Examples\n",
    "\n",
    "letters(\"sharp\", \"soap\") ➞ [\"aps\", \"hr\", \"o\"]\n",
    "\n",
    "letters(\"board\", \"bored\") ➞ [\"bdor\", \"a\", \"e\"]\n",
    "\n",
    "letters(\"happiness\", \"envelope\") ➞ [\"enp\", \"ahis\", \"lov\"]\n",
    "\n",
    "letters(\"kerfuffle\", \"fluffy\") ➞ [\"flu\", \"ekr\", \"y\"]\n",
    "# Even with multiple matching letters (e.g. 3 f's), there should \n",
    "# only exist a single \"f\" in your first element.\n",
    "\n",
    "letters(\"match\", \"ham\") ➞ [\"ahm\", \"ct\", \"\"]\n",
    "# \"ham\" does not contain any letters that are not found already \n",
    "# in \"match\"."
   ]
  },
  {
   "cell_type": "code",
   "execution_count": 32,
   "metadata": {},
   "outputs": [
    {
     "name": "stdout",
     "output_type": "stream",
     "text": [
      "Please Enter string1 : happiness\n",
      "Please Enter string2 : envelope\n"
     ]
    },
    {
     "data": {
      "text/plain": [
       "['enp', 'ahis', 'lov']"
      ]
     },
     "execution_count": 32,
     "metadata": {},
     "output_type": "execute_result"
    }
   ],
   "source": [
    "from collections import Counter \n",
    "\n",
    "def letters(str1, str2):\n",
    "    lst = []\n",
    "    common =list(set(str2)&set(str1))\n",
    "    common.sort()\n",
    "    lst.append(''.join(common))\n",
    "    UniqueStr1 =list(set(str1)-set(str2))\n",
    "    UniqueStr1.sort()\n",
    "    lst.append(''.join(UniqueStr1))\n",
    "    UniqueStr2 =list(set(str2)-set(str1))\n",
    "    UniqueStr2.sort()\n",
    "    lst.append(''.join(UniqueStr2))\n",
    "    return lst\n",
    "\n",
    "str1 = input(\"Please Enter string1 : \")\n",
    "str2 = input(\"Please Enter string2 : \")\n",
    "\n",
    "letters(str1, str2)\n"
   ]
  },
  {
   "cell_type": "raw",
   "metadata": {},
   "source": [
    "3. Write a function that pairs the first number in an array with the last, the second number with the second to last, etc.\n",
    "\n",
    "Examples\n",
    "\n",
    "pairs([1, 2, 3, 4, 5, 6, 7]) ➞ [[1, 7], [2, 6], [3, 5], [4, 4]]\n",
    "\n",
    "pairs([1, 2, 3, 4, 5, 6]) ➞ [[1, 6], [2, 5], [3, 4]]\n",
    "\n",
    "pairs([5, 9, 8, 1, 2]) ➞ [[5, 2], [9, 1], [8, 8]]\n",
    "\n",
    "pairs([]) ➞ []\n"
   ]
  },
  {
   "cell_type": "code",
   "execution_count": 42,
   "metadata": {},
   "outputs": [
    {
     "data": {
      "text/plain": [
       "[[5, 2], [9, 1], [8, 8]]"
      ]
     },
     "execution_count": 42,
     "metadata": {},
     "output_type": "execute_result"
    }
   ],
   "source": [
    "def pairs(lst):\n",
    "    mid = int(len(lst) / 2)\n",
    "    l = len(lst)-1\n",
    "    nLst = []\n",
    "    for i in range(0,mid+1):\n",
    "        nLst.append([lst[i],lst[l - i]])\n",
    "    return nLst\n",
    "\n",
    "lst = [5, 9, 8, 1, 2]\n",
    "pairs(lst)"
   ]
  },
  {
   "cell_type": "raw",
   "metadata": {},
   "source": [
    "4. Write a function that adds two numbers. The catch, however, is that the numbers will be strings.\n",
    "\n",
    "Examples\n",
    "\n",
    "add_str_nums(\"4\", \"5\") ➞ \"9\"\n",
    "\n",
    "add_str_nums(\"abcdefg\", \"3\") ➞ \"-1\"\n",
    "\n",
    "add_str_nums(\"1\", \"\") ➞ \"1\"\n",
    "\n",
    "add_str_nums(\"1874682736267235927359283579235789257\", \"32652983572985729\") ➞ \"1874682736267235927391936562808774986\""
   ]
  },
  {
   "cell_type": "code",
   "execution_count": 50,
   "metadata": {},
   "outputs": [
    {
     "name": "stdout",
     "output_type": "stream",
     "text": [
      "Please enter first string : abcdefg\n",
      "Please enter second string : 3\n",
      "Output:  -1\n"
     ]
    }
   ],
   "source": [
    "def add_str_nums(str1, str2):\n",
    "    try:\n",
    "        if (str1 != \"\"):\n",
    "            n1 = int(str1)\n",
    "        else:\n",
    "            n1 = 0\n",
    "        if str2 != \"\":\n",
    "            n2 = int(str2)\n",
    "        else:\n",
    "            n2 = 0\n",
    "        return str(n1 + n2)\n",
    "    except:\n",
    "        return \"-1\"\n",
    "str1 = input(\"Please enter first string : \")\n",
    "str2 = input(\"Please enter second string : \")\n",
    "print(\"Output: \", add_str_nums(str1, str2))"
   ]
  },
  {
   "cell_type": "raw",
   "metadata": {},
   "source": [
    "5. lPaeesh le pemu mnxit ehess rtnisg! Oh, sorry, that was supposed to say: Please help me unmix these strings!\n",
    "\n",
    "Somehow my strings have all become mixed up; every pair of characters has been swapped. Help me undo this so I can understand my strings again.\n",
    "\n",
    "Examples\n",
    "\n",
    "unmix(\"123456\") ➞ \"214365\"\n",
    "\n",
    "unmix(\"hTsii  s aimex dpus rtni.g\") ➞ \"This is a mixed up string.\"\n",
    "\n",
    "unmix(\"badce\") ➞ \"abcde\"\n"
   ]
  },
  {
   "cell_type": "code",
   "execution_count": 53,
   "metadata": {},
   "outputs": [
    {
     "name": "stdout",
     "output_type": "stream",
     "text": [
      "Please Enter One string : hTsii  s aimex dpus rtni.g\n",
      "Unmix string :  This is a mixed up string.\n"
     ]
    }
   ],
   "source": [
    "def unmix(str1):\n",
    "    nStr = ''\n",
    "    for i in range(0,len(str1),2):\n",
    "        nStr += str1[i+1] + str1[i]\n",
    "    return nStr\n",
    "\n",
    "str1 = input(\"Please Enter One string : \")\n",
    "print(\"Unmix string : \", unmix(str1))"
   ]
  },
  {
   "cell_type": "code",
   "execution_count": null,
   "metadata": {},
   "outputs": [],
   "source": []
  }
 ],
 "metadata": {
  "kernelspec": {
   "display_name": "Python 3",
   "language": "python",
   "name": "python3"
  },
  "language_info": {
   "codemirror_mode": {
    "name": "ipython",
    "version": 3
   },
   "file_extension": ".py",
   "mimetype": "text/x-python",
   "name": "python",
   "nbconvert_exporter": "python",
   "pygments_lexer": "ipython3",
   "version": "3.8.3"
  }
 },
 "nbformat": 4,
 "nbformat_minor": 4
}
