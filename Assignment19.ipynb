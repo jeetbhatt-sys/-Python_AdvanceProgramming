{
 "cells": [
  {
   "cell_type": "raw",
   "metadata": {},
   "source": [
    "1. Create a checker board generator, which takes as inputs n and 2 elements to generate an n x n checkerboard with those two elements as alternating squares.\n",
    "\n",
    "Examples\n",
    "\n",
    "checker_board(2, 7, 6) ➞ [\n",
    "  [7, 6],\n",
    "  [6, 7]\n",
    "]\n",
    "\n",
    "checker_board(3, \"A\", \"B\") ➞ [\n",
    "  [\"A\", \"B\", \"A\"],\n",
    "  [\"B\", \"A\", \"B\"],\n",
    "  [\"A\", \"B\", \"A\"]\n",
    "]\n",
    "\n",
    "checker_board(4, \"c\", \"d\") ➞ [\n",
    "  [\"c\", \"d\", \"c\", \"d\"],\n",
    "  [\"d\", \"c\", \"d\", \"c\"],\n",
    "  [\"c\", \"d\", \"c\", \"d\"],\n",
    "  [\"d\", \"c\", \"d\", \"c\"]\n",
    "]\n",
    "\n",
    "checker_board(4, \"c\", \"c\") ➞ \"invalid\""
   ]
  },
  {
   "cell_type": "code",
   "execution_count": 21,
   "metadata": {},
   "outputs": [
    {
     "data": {
      "text/plain": [
       "[['c', 'd', 'c', 'd'],\n",
       " ['d', 'c', 'd', 'c'],\n",
       " ['d', 'c', 'd', 'c'],\n",
       " ['d', 'c', 'd', 'c']]"
      ]
     },
     "execution_count": 21,
     "metadata": {},
     "output_type": "execute_result"
    }
   ],
   "source": [
    "def checker_board(n,c1,c2):\n",
    "    if c1 == c2 :\n",
    "        return \"invalid\"\n",
    "    nlst = []\n",
    "    t = True\n",
    "    j = True\n",
    "    for i in range(n):\n",
    "        lst =[]\n",
    "        if j:\n",
    "            t = True\n",
    "        else:\n",
    "            t = False\n",
    "        for j in range(n):\n",
    "            if t:\n",
    "                lst.append(c1)\n",
    "                t = False\n",
    "            else:\n",
    "                lst.append(c2)\n",
    "                t = True\n",
    "        nlst.append(lst)\n",
    "        j = not(j)\n",
    "        \n",
    "    return nlst\n",
    "checker_board(4, \"c\", \"d\")"
   ]
  },
  {
   "cell_type": "raw",
   "metadata": {},
   "source": [
    "2. A string is an almost-palindrome if, by changing only one character, you can make it a palindrome. Create a function that returns True if a string is an almost-palindrome and False otherwise.\n",
    "\n",
    "Examples\n",
    "\n",
    "almost_palindrome(\"abcdcbg\") ➞ True\n",
    "# Transformed to \"abcdcba\" by changing \"g\" to \"a\".\n",
    "\n",
    "almost_palindrome(\"abccia\") ➞ True\n",
    "# Transformed to \"abccba\" by changing \"i\" to \"b\".\n",
    "\n",
    "almost_palindrome(\"abcdaaa\") ➞ False\n",
    "# Can't be transformed to a palindrome in exactly 1 turn.\n",
    "\n",
    "almost_palindrome(\"1234312\") ➞ False"
   ]
  },
  {
   "cell_type": "code",
   "execution_count": 46,
   "metadata": {},
   "outputs": [
    {
     "data": {
      "text/plain": [
       "True"
      ]
     },
     "execution_count": 46,
     "metadata": {},
     "output_type": "execute_result"
    }
   ],
   "source": [
    "import re\n",
    "def almost_palindrome(str1):\n",
    "    rev = str1[::-1]\n",
    "    for i in range(len(str1)):\n",
    "        if str1[i] != rev[i]:\n",
    "            rev = rev[0:i] + str1[i] + rev [i+1:]\n",
    "            if rev[::-1] == rev:\n",
    "                return True\n",
    "            else:\n",
    "                return False\n",
    "            \n",
    "    \n",
    "almost_palindrome(\"abcdcbg\")"
   ]
  },
  {
   "cell_type": "raw",
   "metadata": {},
   "source": [
    "3. Create a function that finds how many prime numbers there are, up to the given integer.\n",
    "\n",
    "Examples\n",
    "\n",
    "prime_numbers(10) ➞ 4\n",
    "# 2, 3, 5 and 7\n",
    "\n",
    "prime_numbers(20) ➞ 8\n",
    "# 2, 3, 5, 7, 11, 13, 17 and 19\n",
    "\n",
    "prime_numbers(30) ➞ 10\n",
    "# 2, 3, 5, 7, 11, 13, 17, 19, 23 and 29"
   ]
  },
  {
   "cell_type": "code",
   "execution_count": 49,
   "metadata": {},
   "outputs": [
    {
     "data": {
      "text/plain": [
       "10"
      ]
     },
     "execution_count": 49,
     "metadata": {},
     "output_type": "execute_result"
    }
   ],
   "source": [
    "def isPrime(n):\n",
    "    lst = [2,3,5,7,11]\n",
    "    if n in lst:\n",
    "        return True\n",
    "    else:\n",
    "        for e in lst:\n",
    "            if n % e == 0:\n",
    "                return False\n",
    "        return True\n",
    "def prime_numbers(n):\n",
    "    count = 0\n",
    "    for i in range(2,n):\n",
    "        if isPrime(i):\n",
    "            count += 1\n",
    "    return count\n",
    "\n",
    "prime_numbers(30)"
   ]
  },
  {
   "cell_type": "raw",
   "metadata": {},
   "source": [
    "4. If today was Monday, in two days, it would be Wednesday.\n",
    "\n",
    "Create a function that takes in a list of days as input and the number of days to increment by. Return a list of days after n number of days has passed.\n",
    "\n",
    "Examples\n",
    "\n",
    "after_n_days([\"Thursday\", \"Monday\"], 4) ➞ [\"Monday\", \"Friday\"]\n",
    "\n",
    "after_n_days([\"Sunday\", \"Sunday\", \"Sunday\"], 1) ➞ [\"Monday\", \"Monday\", \"Monday\"]\n",
    "\n",
    "after_n_days([\"Monday\", \"Tuesday\", \"Friday\"], 1) ➞ [\"Tuesday\", \"Wednesday\", \"Saturday\"]"
   ]
  },
  {
   "cell_type": "code",
   "execution_count": 17,
   "metadata": {},
   "outputs": [
    {
     "data": {
      "text/plain": [
       "['Wednesday', 'Thursday', 'Sunday']"
      ]
     },
     "execution_count": 17,
     "metadata": {},
     "output_type": "execute_result"
    }
   ],
   "source": [
    "def after_n_days(lst,n):\n",
    "    nlst = []\n",
    "    dict1 = {\"Sunday\" : 0, \"Monday\" : 1, \"Tuesday\" : 2, \"Wednesday\" : 3, \"Thursday\" : 4, \"Friday\" : 5, \"Saturday\": 6}\n",
    "    keylst = list(dict1.keys())\n",
    "    for day in lst:\n",
    "        t = (dict1[day] + n) % 7\n",
    "        nlst.append(keylst[t])\n",
    "    return nlst\n",
    "lst = [\"Monday\", \"Tuesday\", \"Friday\"]\n",
    "n = 2\n",
    "after_n_days(lst, n)"
   ]
  },
  {
   "cell_type": "raw",
   "metadata": {},
   "source": [
    "5. You are in the process of creating a chat application and want to add an anonymous name feature. This anonymous name feature will create an alias that consists of two capitalized words beginning with the same letter as the users first name.\n",
    "\n",
    "Create a function that determines if the list of users is mapped to a list of anonymous names correctly.\n",
    "\n",
    "Examples\n",
    "\n",
    "is_correct_aliases([\"Adrian M.\", \"Harriet S.\", \"Mandy T.\"], [\"Amazing Artichoke\", \"Hopeful Hedgehog\", \"Marvelous Mouse\"]) ➞ True\n",
    "\n",
    "is_correct_aliases([\"Rachel F.\", \"Pam G.\", \"Fred Z.\", \"Nancy K.\"], [\"Reassuring Rat\", \"Peaceful Panda\", \"Fantastic Frog\", \"Notable Nickel\"]) ➞ True\n",
    "\n",
    "is_correct_aliases([\"Beth T.\"], [\"Brandishing Mimosa\"]) ➞ False\n",
    "# Both words in \"Brandishing Mimosa\" should begin with a \"B\" - \"Brandishing Beaver\" would do the trick."
   ]
  },
  {
   "cell_type": "code",
   "execution_count": 21,
   "metadata": {},
   "outputs": [
    {
     "data": {
      "text/plain": [
       "True"
      ]
     },
     "execution_count": 21,
     "metadata": {},
     "output_type": "execute_result"
    }
   ],
   "source": [
    "def is_correct_aliases(nameLst,aliasList):\n",
    "    \n",
    "    for i in range(len(nameLst)):\n",
    "        ch = nameLst[i][0]\n",
    "        alias = aliasList[i].split()\n",
    "        if alias[0][0] != ch or alias[1][0] != ch:\n",
    "            return False\n",
    "    return True\n",
    "is_correct_aliases([\"Rachel F.\", \"Pam G.\", \"Fred Z.\", \"Nancy K.\"], [\"Reassuring Rat\", \"Peaceful Panda\", \"Fantastic Frog\", \"Notable Nickel\"])"
   ]
  },
  {
   "cell_type": "code",
   "execution_count": null,
   "metadata": {},
   "outputs": [],
   "source": []
  }
 ],
 "metadata": {
  "kernelspec": {
   "display_name": "Python 3",
   "language": "python",
   "name": "python3"
  },
  "language_info": {
   "codemirror_mode": {
    "name": "ipython",
    "version": 3
   },
   "file_extension": ".py",
   "mimetype": "text/x-python",
   "name": "python",
   "nbconvert_exporter": "python",
   "pygments_lexer": "ipython3",
   "version": "3.8.3"
  }
 },
 "nbformat": 4,
 "nbformat_minor": 4
}
