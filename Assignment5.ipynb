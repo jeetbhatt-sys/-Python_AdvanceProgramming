{
 "cells": [
  {
   "cell_type": "code",
   "execution_count": null,
   "metadata": {},
   "outputs": [],
   "source": [
    "1. Create a function that takes a number n (integer greater than zero) as an argument, and returns 2 if n is odd and 8 if n is even.\n",
    "\n",
    "You can only use the following arithmetic operators: addition of numbers +, subtraction of numbers -, multiplication of number *, division of number /, and exponentiation **.\n",
    "\n",
    "You are not allowed to use any other methods in this challenge (i.e. no if statements, comparison operators, etc).\n",
    "\n",
    "Examples\n",
    "\n",
    "f(1) ➞ 2\n",
    "\n",
    "f(2) ➞ 8\n",
    "\n",
    "f(3) ➞ 2"
   ]
  },
  {
   "cell_type": "code",
   "execution_count": 86,
   "metadata": {},
   "outputs": [
    {
     "name": "stdout",
     "output_type": "stream",
     "text": [
      "Enter the number : 4\n",
      "Is the number entered Even :  8\n"
     ]
    }
   ],
   "source": [
    "def f(n):\n",
    "    x = 2\n",
    "    y = 8\n",
    "    return {False: x, True: y} [n/2 - int(n/2) == 0]\n",
    "\n",
    "n = int(input(\"Enter the number : \"))\n",
    "print(\"Is the number entered Even : \", f(n))"
   ]
  },
  {
   "cell_type": "raw",
   "metadata": {},
   "source": [
    "2. Create a function that returns the majority vote in a list. A majority vote is an element that occurs > N/2 times in a list (where N is the length of the list).\n",
    "\n",
    "Examples\n",
    "\n",
    "majority_vote([\"A\", \"A\", \"B\"]) ➞ \"A\"\n",
    "\n",
    "majority_vote([\"A\", \"A\", \"A\", \"B\", \"C\", \"A\"]) ➞ \"A\"\n",
    "\n",
    "majority_vote([\"A\", \"B\", \"B\", \"A\", \"C\", \"C\"]) ➞ None\n"
   ]
  },
  {
   "cell_type": "code",
   "execution_count": 17,
   "metadata": {},
   "outputs": [
    {
     "name": "stdout",
     "output_type": "stream",
     "text": [
      "Input lst of elements comma seperated : A,B,B,A,C,C\n",
      "Mojority vote :  None\n"
     ]
    }
   ],
   "source": [
    "def majority_vote(lst):\n",
    "    dict1 = {}\n",
    "    for e in lst:\n",
    "        if e not in dict1:\n",
    "            dict1[e] = 1\n",
    "        else:\n",
    "            dict1[e] += 1\n",
    "            if(dict1[e] > len(lst)/2):\n",
    "                return e\n",
    "    return 'None'\n",
    "\n",
    "lst = input(\"Input lst of elements comma seperated : \").split(',')\n",
    "print(\"Mojority vote : \", majority_vote(lst))"
   ]
  },
  {
   "cell_type": "raw",
   "metadata": {},
   "source": [
    "3. Create a function that takes a string txt and censors any word from a given list lst. The text removed must be replaced by the given character char.\n",
    "\n",
    "Examples\n",
    "\n",
    "censor_string(\"Today is a Wednesday!\", [\"Today\", \"a\"], \"-\") ➞ \"----- is - Wednesday!\"\n",
    "\n",
    "censor_string(\"The cow jumped over the moon.\", [\"cow\", \"over\"], \"*\"), \"The *** jumped **** the moon.\")\n",
    "\n",
    "censor_string(\"Why did the chicken cross the road?\", [\"Did\", \"chicken\", \"road\"], \"*\") ➞ \"Why *** the ******* cross the ****?\"\n"
   ]
  },
  {
   "cell_type": "code",
   "execution_count": 26,
   "metadata": {},
   "outputs": [
    {
     "name": "stdout",
     "output_type": "stream",
     "text": [
      "Please Enter one string : Today is a Wednesday!\n",
      "Please enter the list of elements comma seperated those needs to be censored : Today,a\n",
      "Please enter one character that to be used to replece censored words : -\n",
      "String after censor :  ----- is - Wednesday! \n"
     ]
    }
   ],
   "source": [
    "def censor_string(str1,lst,char):\n",
    "    res = ''\n",
    "    for w in str1.split():\n",
    "        if w in lst:\n",
    "            res += char*len(w) + ' '\n",
    "        else:\n",
    "            res += w + ' '\n",
    "    return res\n",
    "\n",
    "str1 = input(\"Please Enter one string : \")\n",
    "lst = list(input(\"Please enter the list of elements comma seperated those needs to be censored : \").split(','))\n",
    "char = input(\"Please enter one character that to be used to replece censored words : \")\n",
    "print(\"String after censor : \", censor_string(str1,lst,char))\n"
   ]
  },
  {
   "cell_type": "raw",
   "metadata": {},
   "source": [
    "4. In mathematics a Polydivisible Number (or magic number) is a number in a given number base with digits abcde... that has the following properties:\n",
    "\n",
    "-  Its first digit a is not 0.\n",
    "- The number formed by its first two digits ab is a multiple of 2.\n",
    "- The number formed by its first three digits abc is a multiple of 3.\n",
    "- The number formed by its first four digits abcd is a multiple of 4.\n",
    "\n",
    "Create a function which takes an integer n and returns True if the given number is a Polydivisible Number and False otherwise.\n",
    "\n",
    "Examples\n",
    "\n",
    "is_polydivisible(1232) ➞ True\n",
    "# 1     / 1 = 1\n",
    "# 12    / 2 = 6\n",
    "# 123   / 3 = 41\n",
    "# 1232  / 4 = 308\n",
    "\n",
    "is_polydivisible(123220 ) ➞ False\n",
    "# 1   / 1 = 1\n",
    "# 12   / 2 = 6\n",
    "# 123   / 3 = 41\n",
    "# 1232   / 4 = 308\n",
    "# 12322   / 5 = 2464.4         # Not a Whole Number\n",
    "# 123220   /6 = 220536.333...  # Not a Whole Number\n"
   ]
  },
  {
   "cell_type": "code",
   "execution_count": 71,
   "metadata": {},
   "outputs": [
    {
     "name": "stdout",
     "output_type": "stream",
     "text": [
      "Please enter the number : 123440\n",
      "123440 is polydivisible : False\n"
     ]
    }
   ],
   "source": [
    "def is_polydivisible(num):\n",
    "    for i in range(1,len(num)+1):\n",
    "        if int(num[0:i]) % i == 0:\n",
    "            continue\n",
    "        else:\n",
    "            return False\n",
    "    return True\n",
    "\n",
    "num = input(\"Please enter the number : \")\n",
    "print(\"{} is polydivisible : {}\".format(num,is_polydivisible(num)))"
   ]
  },
  {
   "cell_type": "raw",
   "metadata": {},
   "source": [
    "5. Create a function that takes a list of numbers and returns the sum of all prime numbers in the list.\n",
    "\n",
    "Examples\n",
    "\n",
    "sum_primes([1, 2, 3, 4, 5, 6, 7, 8, 9, 10]) ➞ 17\n",
    "\n",
    "sum_primes([2, 3, 4, 11, 20, 50, 71]) ➞ 87\n",
    "\n",
    "sum_primes([]) ➞ None"
   ]
  },
  {
   "cell_type": "code",
   "execution_count": 78,
   "metadata": {},
   "outputs": [
    {
     "name": "stdout",
     "output_type": "stream",
     "text": [
      "Please enter the list of elements comma seperated : 2, 3, 4, 11, 20, 50, 71\n",
      "Sum of all prime numbers in list :  87\n"
     ]
    }
   ],
   "source": [
    "def isPrime(n):\n",
    "    lst = [2,3,5,7,11]\n",
    "    if n == 1:\n",
    "        return False\n",
    "    if n in lst:\n",
    "        return True\n",
    "    else:\n",
    "        for e in lst:\n",
    "            if n % e == 0:\n",
    "                return False\n",
    "        return True\n",
    "    \n",
    "def sum_primes(lst):\n",
    "    total = 0\n",
    "    for i in lst:\n",
    "        if isPrime(int(i)):\n",
    "            total += int(i)\n",
    "    return total\n",
    "\n",
    "lst = input(\"Please enter the list of elements comma seperated : \").split(',')\n",
    "print(\"Sum of all prime numbers in list : \", sum_primes(lst))"
   ]
  },
  {
   "cell_type": "code",
   "execution_count": null,
   "metadata": {},
   "outputs": [],
   "source": []
  }
 ],
 "metadata": {
  "kernelspec": {
   "display_name": "Python 3",
   "language": "python",
   "name": "python3"
  },
  "language_info": {
   "codemirror_mode": {
    "name": "ipython",
    "version": 3
   },
   "file_extension": ".py",
   "mimetype": "text/x-python",
   "name": "python",
   "nbconvert_exporter": "python",
   "pygments_lexer": "ipython3",
   "version": "3.8.3"
  }
 },
 "nbformat": 4,
 "nbformat_minor": 4
}
